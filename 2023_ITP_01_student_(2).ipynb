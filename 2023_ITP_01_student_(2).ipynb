{
  "metadata": {
    "celltoolbar": "Edit Metadata",
    "colab": {
      "provenance": [],
      "include_colab_link": true
    },
    "kernelspec": {
      "display_name": "ads-S7em2eL1-py3.9",
      "language": "python",
      "name": "python3"
    },
    "language_info": {
      "codemirror_mode": {
        "name": "ipython",
        "version": 3
      },
      "file_extension": ".py",
      "mimetype": "text/x-python",
      "name": "python",
      "nbconvert_exporter": "python",
      "pygments_lexer": "ipython3",
      "version": "3.9.13 (main, Aug 23 2022, 16:31:44) \n[GCC 11.2.0]"
    },
    "vscode": {
      "interpreter": {
        "hash": "44cb0f2987d733acab9669770cd4c9f6b66c0e7977b539763bf4e9ae46494531"
      }
    }
  },
  "nbformat": 4,
  "nbformat_minor": 0,
  "cells": [
    {
      "cell_type": "markdown",
      "metadata": {
        "id": "view-in-github",
        "colab_type": "text"
      },
      "source": [
        "<a href=\"https://colab.research.google.com/github/Bucchus0428/group_project/blob/main/2023_ITP_01_student_(2).ipynb\" target=\"_parent\"><img src=\"https://colab.research.google.com/assets/colab-badge.svg\" alt=\"Open In Colab\"/></a>"
      ]
    },
    {
      "cell_type": "code",
      "execution_count": 1,
      "source": [
        "# Run this cell first!\n",
        "class _CgAnswers: ...\n",
        "answers = _CgAnswers()\n"
      ],
      "outputs": [],
      "metadata": {
        "trusted": true,
        "editable": false,
        "deletable": false,
        "id": "8hJtskRWRh4P"
      }
    },
    {
      "cell_type": "markdown",
      "metadata": {
        "id": "Am9ecw9yWv96",
        "nbgrader": {
          "grade": false,
          "grade_id": "cell-48f3558955bbd1c0",
          "locked": true,
          "schema_version": 3,
          "solution": false,
          "task": false
        },
        "trusted": true,
        "editable": false,
        "deletable": false
      },
      "source": [
        "# Introduction to Programming - Assignment 1\n",
        "\n",
        "Author: Julien ROSSI j.rossi@uva.nl\n",
        "\n",
        "Bachelor Business Analytics\n",
        "\n",
        "Faculty of Economics and Business\n",
        "\n",
        "University of Amsterdam"
      ]
    },
    {
      "cell_type": "markdown",
      "metadata": {
        "id": "xg2v6bkkP3rg",
        "trusted": true,
        "editable": false,
        "deletable": false
      },
      "source": [
        "___\n",
        "\n",
        "\n",
        "* This assignment is made for auto-grading with CodeGrade in Canvas\n",
        "* Write your code\n",
        "* **NEVER TOUCH THE CODE WHERE IT IS MARKED \"DO NOT CHANGE\"**\n",
        "* Submit through Canvas\n",
        "* Check the feedback\n",
        "\n",
        "___\n",
        "\n",
        "\n",
        "* There are **6 questions** for a total of **20 points**\n",
        "  * Q1.1: 2 points \n",
        "  * Q1.2: 3 points \n",
        "  * Q1.3: 5 points\n",
        "  * Q1.4: 5 points\n",
        "  * Q2.1: 3 points \n",
        "  * Q2.2: 2 points \n",
        "\n",
        "___"
      ]
    },
    {
      "cell_type": "markdown",
      "metadata": {
        "tags": [],
        "trusted": true,
        "editable": false,
        "deletable": false,
        "id": "jeV2sGaBRh4Q"
      },
      "source": [
        "# Question 1.1 - Harmonic Mean (2 points)"
      ]
    },
    {
      "cell_type": "markdown",
      "metadata": {
        "trusted": true,
        "editable": false,
        "deletable": false,
        "id": "Ut0iO_IjRh4Q"
      },
      "source": [
        "The harmonic mean of 2 numbers $x$ and $y$ is given by \n",
        "\n",
        "$H = \\frac{2}{\\frac{1}{x} + \\frac{1}{y}}$\n",
        "\n",
        "\n",
        "**ASSIGNMENT**\n",
        "\n",
        "Write a function:\n",
        "* named `hmean`\n",
        "* accepting 2 arguments, named `x` and `y`\n",
        "* returning a number: the harmonic mean of `x` and `y`\n",
        "\n",
        "**GRADING** \n",
        "* Q1_1_1: Defining `hmean` correctly (arguments): 1 point\n",
        "* Q1_1_2: Getting the right result when using `hmean`: 1 point\n",
        "* The results are tested by calling `hmean` with 10 random pairs of numbers between 1 and 50\n"
      ]
    },
    {
      "cell_type": "code",
      "execution_count": 4,
      "metadata": {
        "id": "JGpgxdt7CsjH",
        "nbgrader": {
          "grade": false,
          "grade_id": "cell-9bd844c85ce879f1",
          "locked": true,
          "schema_version": 3,
          "solution": false,
          "task": false
        }
      },
      "outputs": [],
      "source": [
        "### BEGIN SOLUTION\n",
        "def hmean(x, y):\n",
        "  ans = 2 / ((1/x) + (1/y))\n",
        "  return ans\n",
        "\n",
        "\n",
        "### END SOLUTION"
      ]
    },
    {
      "cell_type": "code",
      "execution_count": 5,
      "metadata": {
        "deletable": false,
        "editable": false,
        "tags": [],
        "id": "1BRft5dRRh4Q"
      },
      "outputs": [],
      "source": [
        "# DO NOT CHANGE \n",
        "answers.Q1_1_1 = hmean\n",
        "answers.Q1_1_2 = hmean"
      ]
    },
    {
      "cell_type": "markdown",
      "metadata": {
        "trusted": true,
        "editable": false,
        "deletable": false,
        "id": "BP3SSSnyRh4Q"
      },
      "source": [
        "# Question 1.2 - Harmonic Mean + Type Annotation (3 points)"
      ]
    },
    {
      "cell_type": "markdown",
      "metadata": {
        "trusted": true,
        "editable": false,
        "deletable": false,
        "id": "9Jrm6CRhRh4Q"
      },
      "source": [
        "**ASSIGNMENT**\n",
        "* Take the solution to Exercise 1, Copy/Paste\n",
        "* Rename the function `hmean_annotated`\n",
        "* Insert type hinting for parameters and return value\n",
        "* This function receives `float` numbers and returns one `float` number\n",
        "* End result: define a function `hmean_annotated` with type hinting, which computes the harmonic mean\n",
        "\n",
        "**GRADING**\n",
        "* Q1_2_1: Defining `hmean_annotated` correctly (arguments): 1 point\n",
        "* Q1_2_2: Annotating arguments and return value: 1 point\n",
        "* Q1_2_3: Getting the right results: 1 point\n",
        "* The results are tested by calling `hmean_annotated` with 10 random pairs of numbers between 1 and 50\n"
      ]
    },
    {
      "cell_type": "code",
      "execution_count": 9,
      "metadata": {
        "id": "8WaPuWm9Rh4R"
      },
      "outputs": [],
      "source": [
        "### BEGIN SOLUTION\n",
        "def hmean_annotated(x: float, y: float) -> float:\n",
        "  ans = 2 / ((1/x) + (1/y))\n",
        "  return ans\n",
        "\n",
        "### END SOLUTION"
      ]
    },
    {
      "cell_type": "code",
      "execution_count": 10,
      "metadata": {
        "deletable": false,
        "editable": false,
        "tags": [],
        "id": "wuE3fB-NRh4R"
      },
      "outputs": [],
      "source": [
        "# DO NOT CHANGE \n",
        "answers.Q1_2_1 = hmean_annotated\n",
        "answers.Q1_2_2 = hmean_annotated\n",
        "answers.Q1_2_3 = hmean_annotated"
      ]
    },
    {
      "cell_type": "markdown",
      "metadata": {
        "trusted": true,
        "editable": false,
        "deletable": false,
        "id": "VlnNReNSRh4R"
      },
      "source": [
        "# Question 1.3 Harmonic Mean of Multiple Numbers (5 points)"
      ]
    },
    {
      "cell_type": "markdown",
      "metadata": {
        "trusted": true,
        "editable": false,
        "deletable": false,
        "id": "veeVPJOjRh4R"
      },
      "source": [
        "Given $N$ numbers $x_1, x_2, ..., x_N$, the harmonic mean is given by the formula:\n",
        "\n",
        "$H = \\frac{N}{\\sum_{i=1}^{N}\\frac{1}{x_i}}$\n",
        "\n",
        "For example, the harmonic mean of $3.2, 1.5, -4.7$ is given by:\n",
        "\n",
        "$H = \\frac{3}{\\frac{1}{3.2} + \\frac{1}{1.5} - \\frac{1}{4.7}} = 3.9144013880855986$\n",
        "\n",
        "**ASSIGNMENT**\n",
        "* Write a function `hmean_n`\n",
        "  * takes a variable number of numbers, using `*numbers` \n",
        "  * returns the harmonic mean of all the numbers\n",
        "\n",
        "\n",
        "**GRADING**\n",
        "* You get 0 or 5 points for this question\n",
        "* The function is tested with lists of random lengths, containing random numbers\n",
        "\n",
        "\n",
        "**SELF-TEST**\n",
        "\n",
        "The following code should display `True` 3 times\n",
        "```python\n",
        "import math\n",
        "\n",
        "print(math.isclose(hmean_n(1.1, 2.2, 3.3), 1.8))\n",
        "print(math.isclose(hmean_n(128, 64, 32, 16, 8), 20.64516129032258))\n",
        "print(math.isclose(hmean_n(1, 1, 1, 1, 1, 1, 1), 1.0))\n",
        "```\n"
      ]
    },
    {
      "cell_type": "code",
      "execution_count": 30,
      "metadata": {
        "id": "EMjRTxRoRh4R"
      },
      "outputs": [],
      "source": [
        "from re import A\n",
        "### BEGIN SOLUTION\n",
        "def hmean_n(*numbers: float):\n",
        "  sum = 0\n",
        "  for i in range(len(numbers)):\n",
        "    sum += 1/numbers[i]\n",
        "  act = len(numbers)/sum\n",
        "  return act\n",
        "\n",
        "\n",
        "### END SOLUTION"
      ]
    },
    {
      "cell_type": "code",
      "execution_count": 31,
      "metadata": {
        "id": "8L-RU_0CRh4R"
      },
      "outputs": [],
      "source": [
        "# DO NOT CHANGE\n",
        "answers.Q1_3 = hmean_n"
      ]
    },
    {
      "cell_type": "markdown",
      "metadata": {
        "trusted": true,
        "editable": false,
        "deletable": false,
        "id": "LzBWsL2KRh4R"
      },
      "source": [
        "# Question 1.4 Power Harmonic Mean of Multiple Numbers (5 points)"
      ]
    },
    {
      "cell_type": "markdown",
      "metadata": {
        "trusted": true,
        "editable": false,
        "deletable": false,
        "id": "5f0Zff7BRh4R"
      },
      "source": [
        "Given $N$ numbers $x_1, x_2, ..., x_N$, and a power $p$, the power harmonic mean is given by the formula:\n",
        "\n",
        "$H = \\frac{N^p}{\\sum_{i=1}^{N}\\frac{1}{x_i^p}}$\n",
        "\n",
        "For example, the 2-harmonic mean of $3.2, 1.5, -4.7$ is given by:\n",
        "\n",
        "$H = \\frac{3^2}{\\frac{1}{3.2^2} + \\frac{1}{1.5^2} - \\frac{1}{4.7^2}} = 15.322538227046461$\n",
        "\n",
        "**ASSIGNMENT**\n",
        "* Write a function `hmean_np`\n",
        "  * takes a variable number of numbers, using `*numbers` \n",
        "  * takes an argument `p` of type `float` with default value `1.0`\n",
        "  * returns the power harmonic mean of all the numbers\n",
        "* Use type hinting for `*numbers` and `p`\n",
        "\n",
        "\n",
        "**GRADING**\n",
        "* You get 0 or 5 points for this question\n",
        "* Type hinting and default value will be checked for arguments\n",
        "* Type hinting of the return value will be checked\n",
        "* The function is tested with lists of random lengths, made of random numbers\n",
        "\n",
        "\n",
        "**SELF-TEST**\n",
        "\n",
        "The following code should display `True` 3 times\n",
        "```python\n",
        "import math\n",
        "\n",
        "print(math.isclose(hmean_np(1.1, 2.2, 3.3), 1.8))\n",
        "print(math.isclose(hmean_np(1.1, 2.2, 3.3, p=2), 8.000816326530613))\n",
        "print(math.isclose(hmean_np(1.1, 2.2, 3.3, p=3.2), 40.07675079330546))\n",
        "print(math.isclose(hmean_np(1.1, 2.2, 3.3, p=-9.01), 1.0427918202888967e-09))\n",
        "```\n"
      ]
    },
    {
      "cell_type": "code",
      "execution_count": 34,
      "metadata": {
        "colab": {
          "base_uri": "https://localhost:8080/",
          "height": 131
        },
        "id": "RJdok2k-Rh4R",
        "outputId": "30834a44-6acd-42b3-d104-fe24cf2a054a"
      },
      "outputs": [
        {
          "output_type": "error",
          "ename": "SyntaxError",
          "evalue": "ignored",
          "traceback": [
            "\u001b[0;36m  File \u001b[0;32m\"<ipython-input-34-c27ec39bab71>\"\u001b[0;36m, line \u001b[0;32m14\u001b[0m\n\u001b[0;31m    ### END SOLUTION\u001b[0m\n\u001b[0m                    ^\u001b[0m\n\u001b[0;31mSyntaxError\u001b[0m\u001b[0;31m:\u001b[0m unexpected EOF while parsing\n"
          ]
        }
      ],
      "source": [
        "### BEGIN SOLUTION\n",
        "def hmean_np(*numbers: float, p: float = 1.0):\n",
        "  sum = 0\n",
        "  num = len(numbers)\n",
        "  for i in range(num):\n",
        "    sum += 1/(numbers[i]) ** p\n",
        "  act = (num ** p)/sum\n",
        "  return act\n",
        "\n",
        "(hmean_np(1.1, 2.2, 3.3, p=2)\n",
        "\n",
        "\n",
        "\n",
        "### END SOLUTION"
      ]
    },
    {
      "cell_type": "code",
      "execution_count": null,
      "metadata": {
        "id": "zwl3Axe_Rh4R"
      },
      "outputs": [],
      "source": [
        "# DO NOT CHANGE\n",
        "answers.Q1_4 = hmean_np"
      ]
    },
    {
      "cell_type": "markdown",
      "metadata": {
        "trusted": true,
        "editable": false,
        "deletable": false,
        "id": "uAXAftm0Rh4R"
      },
      "source": [
        "# Question 2.1 - Capitals and Distance (3 points)"
      ]
    },
    {
      "cell_type": "markdown",
      "metadata": {
        "trusted": true,
        "editable": false,
        "deletable": false,
        "id": "guHi5tc8Rh4R"
      },
      "source": [
        "A list of capital cities and their longitude / latitude is available at https://raw.githubusercontent.com/j-rossi-nl/teaching-data/main/2022_ITP/concap.csv \n",
        "\n",
        "**ASSIGNMENT**\n",
        "* Load it into a dataframe named `capitals`\n",
        "* Set the index of this dataframe to the column `CapitalName`\n",
        "* **check** `df.loc[\"Amsterdam\"]` should provide all the data about Amsterdam \n",
        "```\n",
        "CountryName         Netherlands\n",
        "CapitalLatitude           52.35\n",
        "CapitalLongitude       4.916667\n",
        "CountryCode                  NL\n",
        "ContinentName            Europe\n",
        "```\n",
        "\n",
        "**INFORMATION**\n",
        "* The distance between 2 points at the surface of Earth can be computed by using [GeoPy](https://geopy.readthedocs.io/en/stable/#module-geopy.distance)\n",
        "* For this exercise, we use the default geodesic distance \n",
        "* See in the documentation which function is referred to as `default of the geodesic distance available...`\n",
        "\n",
        "\n",
        "**ASSIGNMENT**\n",
        "* Write a function named `cities_distance`\n",
        "* Annotate with type hinting for parameters and return value\n",
        "* Parameters:\n",
        "  * The name of a city `city_from`, type `str`\n",
        "  * The name of a second city `city_to`, type `str`, default value: `\"Amsterdam\"`\n",
        "  * a pandas dataframe `cities`, type `pd.DataFrame`, default value is the dataframe `capitals`)\n",
        "* Return value:\n",
        "  * The distance in **kilometers**, type `float`\n",
        "\n",
        "\n",
        "\n",
        "**ATTENTION**\n",
        "* For this exercise, the autograder will check both the dataframe `capitals` and the function `cities_distance`\n",
        "* Q2_1_1: Creating the correct dataframe `capitals`: 1 point\n",
        "* Q2_1_2: Definining `cities_distance` correctly (arguments + default values + type hinting): 1 point\n",
        "* Q2_1_3: Getting the right results from calling `cities_distance`: 1 point\n",
        "* The results are tested by calling `cities_distance` with 3 random pairs of cities\n"
      ]
    },
    {
      "cell_type": "code",
      "execution_count": null,
      "metadata": {
        "deletable": false,
        "editable": false,
        "tags": [],
        "id": "9wFltafyRh4S"
      },
      "outputs": [],
      "source": [
        "# DO NOT CHANGE\n",
        "import pandas as pd\n",
        "from geopy import distance"
      ]
    },
    {
      "cell_type": "code",
      "execution_count": null,
      "metadata": {
        "id": "59FnIIzYRh4S"
      },
      "outputs": [],
      "source": [
        "### BEGIN SOLUTION\n",
        "### END SOLUTION"
      ]
    },
    {
      "cell_type": "code",
      "execution_count": null,
      "metadata": {
        "deletable": false,
        "editable": false,
        "tags": [],
        "id": "PcbLf8ZpRh4S"
      },
      "outputs": [],
      "source": [
        "# DO NOT CHANGE\n",
        "answers.Q2_1_1 = {\"capitals\": capitals, \"cities_distance\": cities_distance}\n",
        "answers.Q2_1_2 = {\"capitals\": capitals, \"cities_distance\": cities_distance}\n",
        "answers.Q2_1_3 = {\"capitals\": capitals, \"cities_distance\": cities_distance}"
      ]
    },
    {
      "cell_type": "markdown",
      "metadata": {
        "trusted": true,
        "editable": false,
        "deletable": false,
        "id": "B_mMQpwfRh4S"
      },
      "source": [
        "# Question 2.2 - Complete program (2 points)"
      ]
    },
    {
      "cell_type": "markdown",
      "metadata": {
        "trusted": true,
        "editable": false,
        "deletable": false,
        "id": "d2W2u184Rh4S"
      },
      "source": [
        "Time to apply the \"Programming is like running a money heist / a startup\" !!\n",
        "\n",
        "We want to move goods from Amsterdam to Kinshasa (RDC). \n",
        "\n",
        "The transportation price is proportional to the flying distance.\n",
        "\n",
        "There are no direct route, but we identified that the following cargo airline routes exist:\n",
        "* Amsterdam - Paris\n",
        "* Amsterdam - Cairo\n",
        "* Amsterdam - Madrid\n",
        "* Paris - Pretoria\n",
        "* Paris - Yaounde\n",
        "* Cairo - Freetown\n",
        "* Madrid - Yaounde\n",
        "* Pretoria - Kinshasa\n",
        "* Freetown - Kinshasa\n",
        "* Yaounde - Kinshasa\n",
        "\n",
        "**ASSIGNMENT**\n",
        "Which route is the shortest to deliver goods from Amsterdam to Kinshasa?\n",
        "\n",
        "**USEFUL REFERENCES**\n",
        "* From \"Analytics for a Better World\" [Notebook](https://colab.research.google.com/drive/1XIMHOhGbrIV4r1n6rEguzoMo7M_ggU4b?usp=sharing)\n",
        "\n",
        "**TOOLS**\n",
        "\n",
        "* directed graph using `networkx`\n",
        "  * nodes will be cities\n",
        "  * edges will indicate existing routes\n",
        "  * edges attribute will indicate the distance between cities\n",
        "* Python dictionaries\n",
        "* Python lists\n",
        "\n",
        "\n",
        "**TEAM**\n",
        "\n",
        "* create a function `get_all_routes`:\n",
        "  * no parameter\n",
        "  * returns a list of dictionaries. Each dictionary has 2 keys `\"from\", \"to\"`\n",
        "  * this list is the transformation of the list above into a list of dictionaries\n",
        "  * for example, if `route` is the element of the list for Amsterdam-Paris, then `route[\"from\"] = \"Amsterdam\"` and `route[\"to\"] = \"Paris\"`\n",
        "\n",
        "\n",
        "* create a function `create_digraph`:\n",
        "  * 2 parameters: \n",
        "    * `routes`: list of routes, as a list of dictionaries with keys `\"from\"` and `\"to\"` (no default value)\n",
        "    * `cities`: a pandas dataframe (no default value)\n",
        "  * returns a `DiGraph` where nodes are cities, edges are routes with distance\n",
        "  * the DiGraph corresponds to the list of routes\n",
        "  * use `cities_distance` from Exercise 3 to get the distance\n",
        "\n",
        "\n",
        "* Create the DiGraph and store it in the variable `route_graph`\n",
        "\n",
        "**EXECUTE THE PLAN**\n",
        "* Get the shortest route between Amsterdam and Kinshasa\n",
        "* Store the shortest route in variable `shortest_route`\n",
        "\n",
        "**SHARE THE BOUNTY**\n",
        "* Nothing to do here. \n",
        "\n",
        "\n",
        "**ATTENTION**\n",
        "* for this question, you get 0 or 2 points"
      ]
    },
    {
      "cell_type": "code",
      "execution_count": null,
      "metadata": {
        "deletable": false,
        "editable": false,
        "tags": [],
        "id": "YpKrmUi1Rh4S"
      },
      "outputs": [],
      "source": [
        "# DO NOT CHANGE\n",
        "import networkx as nx"
      ]
    },
    {
      "cell_type": "code",
      "execution_count": null,
      "metadata": {
        "id": "Ir-bJ5yyRh4S"
      },
      "outputs": [],
      "source": [
        "### BEGIN SOLUTION\n",
        "### END SOLUTION"
      ]
    },
    {
      "cell_type": "code",
      "execution_count": null,
      "metadata": {
        "deletable": false,
        "editable": false,
        "tags": [],
        "id": "CqASVp7sRh4S"
      },
      "outputs": [],
      "source": [
        "# DO NOT CHANGE\n",
        "answers.Q2_2 = {\"get_all_routes\": get_all_routes, \"create_digraph\": create_digraph, \"route_graph\": route_graph, \"shortest_route\": shortest_route}"
      ]
    },
    {
      "cell_type": "code",
      "execution_count": null,
      "metadata": {
        "id": "XL9huv-PRh4S"
      },
      "outputs": [],
      "source": []
    }
  ]
}